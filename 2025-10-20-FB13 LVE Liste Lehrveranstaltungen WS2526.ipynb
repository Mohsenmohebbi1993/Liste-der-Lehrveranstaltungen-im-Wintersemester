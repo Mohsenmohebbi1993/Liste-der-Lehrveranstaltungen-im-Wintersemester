{
 "cells": [
  {
   "cell_type": "markdown",
   "id": "a82dca1d",
   "metadata": {},
   "source": [
    "## Excel-Datei: Liste der Lehrveranstaltungen im Wintersemester 2025/26 (Stand: 20.10.2025)\n",
    "\n",
    "In dieser Excel-Datei sind die Informationen und die Liste der im Wintersemester am 20.10.2025 angebotenen Lehrveranstaltungen enthalten.  \n",
    "Die Daten umfassen:\n",
    "\n",
    "- **Zeitraum**: Zeitraum der Durchführung der Lehrveranstaltung (Beginn und Ende)  \n",
    "- **Anrede**: Geschlecht der jeweiligen Person  \n",
    "- **Titel**: Titel der jeweiligen Person (z. B. Professor, Student usw.)  \n",
    "- **Vorname**: Vorname der jeweiligen Person  \n",
    "- **Nachname**: Nachname der jeweiligen Person  \n",
    "- **Email-Adresse**: E-Mail-Adresse der jeweiligen Person, die verschiedene Domains enthält; einige Domains gehören zu universitären E-Mail-Adressen, während andere unklar sind – dies könnte diskussionswürdig sein.  \n",
    "- **Lehrveranstaltung**: Name und Titel der Lehrveranstaltung  \n",
    "- **Kennung**: Kursnummer / Kürzel der Lehrveranstaltung  \n",
    "- **Periode**: Kennung des Semesters  \n",
    "- **Studiengang**: Studiengang  \n",
    "- **Veranstaltungstyp**: Art der Lehrveranstaltung, einschließlich: `Vorlesung`, `Übung`, `Seminar`, `Vorlesung und Übung`, `Projekt`, `Kolloquium`, `Hörsaalübung`, `Praktikum`, `Tutorium`  \n",
    "- **Teilnehmer**: Anzahl der Teilnehmer pro Lehrveranstaltung  \n",
    "\n",
    "**Sekundärdozent 1**  \n",
    "- **Anrede**: Geschlecht des ersten Nebendozenten  \n",
    "- **Titel**: Titel des ersten Nebendozenten  \n",
    "- **Vorname**: Vorname des ersten Nebendozenten  \n",
    "- **Nachname**: Nachname des ersten Nebendozenten  \n",
    "- **Email-Adresse**: E-Mail-Adresse des ersten Nebendozenten  \n",
    "\n",
    "**Sekundärdozent 2**  \n",
    "- **Anrede**: Geschlecht des zweiten Nebendozenten  \n",
    "- **Titel**: Titel des zweiten Nebendozenten  \n",
    "- **Vorname**: Vorname des zweiten Nebendozenten  \n",
    "- **Nachname**: Nachname des zweiten Nebendozenten  \n",
    "- **Email-Adresse**: E-Mail-Adresse des zweiten Nebendozenten  \n",
    "\n",
    "> **Hinweis**: Die restlichen Spalten beziehen sich auf einen dritten Nebendozenten (**Sekundärdozent3**), enthalten jedoch keinerlei Werte – sämtliche Informationen hierzu sind leer."
   ]
  },
  {
   "cell_type": "code",
   "execution_count": 2,
   "id": "da0e2986",
   "metadata": {},
   "outputs": [],
   "source": [
    "# Import Library\n",
    "# Basic Library\n",
    "import os\n",
    "import math\n",
    "\n",
    "# analysis\n",
    "import numpy as np\n",
    "import pandas as pd\n",
    "\n",
    "# plot and graph\n",
    "import matplotlib.pyplot as plt\n",
    "import seaborn as sns\n"
   ]
  },
  {
   "cell_type": "markdown",
   "id": "8b37a3ca",
   "metadata": {},
   "source": [
    "# 1.Daten einlesen\n",
    "\n",
    "\n",
    "Die Daten liegen in einer Excel-Datei vor und umfassen zwei Arbeitsblätter: **Liste FB13** und **Lehraufträge**.\n",
    "\n",
    "- Das Arbeitsblatt **Liste FB13** enthält Informationen zu den angebotenen Lehrveranstaltungen sowie zu den Personen, die daran teilnehmen. Es beinhaltet sowohl Studierende als auch Lehrende sowie Angaben zu den Kursen (z. B. Zeit, Ort, Veranstaltungstyp).\n",
    "- Das Arbeitsblatt **Lehraufträge** betrifft die Lehraufträge (d. h. die erteilten Lehrverpflichtungen oder -beauftragungen)."
   ]
  },
  {
   "cell_type": "code",
   "execution_count": 9,
   "id": "d1d0c469",
   "metadata": {},
   "outputs": [],
   "source": [
    "df_Liste_FB13 = pd.read_excel(\"C:/Users/user/Desktop/Fatemeh/2025-10-20-FB13 LVE Liste Lehrveranstaltungen WS2526.xlsx\",\n",
    "                   sheet_name=\"Liste FB13\")\n",
    "\n",
    "df_Teaching_assignments = pd.read_excel(\"C:/Users/user/Desktop/Fatemeh/2025-10-20-FB13 LVE Liste Lehrveranstaltungen WS2526.xlsx\",\n",
    "                   sheet_name=\"Lehraufträge\")"
   ]
  }
 ],
 "metadata": {
  "kernelspec": {
   "display_name": "Python 3",
   "language": "python",
   "name": "python3"
  },
  "language_info": {
   "codemirror_mode": {
    "name": "ipython",
    "version": 3
   },
   "file_extension": ".py",
   "mimetype": "text/x-python",
   "name": "python",
   "nbconvert_exporter": "python",
   "pygments_lexer": "ipython3",
   "version": "3.13.2"
  }
 },
 "nbformat": 4,
 "nbformat_minor": 5
}
